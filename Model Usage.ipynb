{
 "cells": [
  {
   "cell_type": "code",
   "execution_count": 1,
   "id": "63696e02-52af-43f4-9fd7-752d9ff9e7e3",
   "metadata": {},
   "outputs": [],
   "source": [
    "from joblib import dump, load\n",
    "import numpy as np\n",
    "model = load(\"Dragon.joblib\") #calling the model"
   ]
  },
  {
   "cell_type": "code",
   "execution_count": 2,
   "id": "21025f92-4cd8-4d16-b23d-4393e8ff1e20",
   "metadata": {},
   "outputs": [],
   "source": [
    "features = np.array([[ 0.02348534, -0.43942006,  3.12628155, -1.12165014, -0.27288841,\n",
    "       -1.42262747, -0.24141041, -1.31238772,  2.61111401, -1.0016859 ,\n",
    "       -0.5778192 , -0.97491834,  0.41164221, -0.86091034]])\n",
    "predictions = model.predict(features)"
   ]
  },
  {
   "cell_type": "code",
   "execution_count": 3,
   "id": "2aaa4dcd-0186-4719-ba22-018a989729db",
   "metadata": {},
   "outputs": [
    {
     "data": {
      "text/plain": [
       "array([22.414])"
      ]
     },
     "execution_count": 3,
     "metadata": {},
     "output_type": "execute_result"
    }
   ],
   "source": [
    "predictions"
   ]
  },
  {
   "cell_type": "code",
   "execution_count": null,
   "id": "0a574f9d-bb05-4e57-9c1f-e8dc8fb8828d",
   "metadata": {},
   "outputs": [],
   "source": []
  }
 ],
 "metadata": {
  "kernelspec": {
   "display_name": "Python 3 (ipykernel)",
   "language": "python",
   "name": "python3"
  },
  "language_info": {
   "codemirror_mode": {
    "name": "ipython",
    "version": 3
   },
   "file_extension": ".py",
   "mimetype": "text/x-python",
   "name": "python",
   "nbconvert_exporter": "python",
   "pygments_lexer": "ipython3",
   "version": "3.13.0"
  }
 },
 "nbformat": 4,
 "nbformat_minor": 5
}
